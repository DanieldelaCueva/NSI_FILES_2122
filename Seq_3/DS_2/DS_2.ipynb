{
 "cells": [
  {
   "cell_type": "code",
   "execution_count": 18,
   "id": "167ff525",
   "metadata": {},
   "outputs": [],
   "source": [
    "#q1\n",
    "carre = [[4,9,2], [3,5,7], [8,1,7]]"
   ]
  },
  {
   "cell_type": "code",
   "execution_count": 7,
   "id": "ca9604b6",
   "metadata": {},
   "outputs": [
    {
     "data": {
      "text/plain": [
       "3"
      ]
     },
     "execution_count": 7,
     "metadata": {},
     "output_type": "execute_result"
    }
   ],
   "source": [
    "#q2\n",
    "len(carre)"
   ]
  },
  {
   "cell_type": "code",
   "execution_count": 8,
   "id": "0592d02b",
   "metadata": {},
   "outputs": [
    {
     "data": {
      "text/plain": [
       "4"
      ]
     },
     "execution_count": 8,
     "metadata": {},
     "output_type": "execute_result"
    }
   ],
   "source": [
    "#q3\n",
    "carre[0][0]"
   ]
  },
  {
   "cell_type": "code",
   "execution_count": 9,
   "id": "b33d14f7",
   "metadata": {},
   "outputs": [
    {
     "data": {
      "text/plain": [
       "1"
      ]
     },
     "execution_count": 9,
     "metadata": {},
     "output_type": "execute_result"
    }
   ],
   "source": [
    "#q3\n",
    "carre[2][1]"
   ]
  },
  {
   "cell_type": "code",
   "execution_count": 10,
   "id": "a1b4b755",
   "metadata": {},
   "outputs": [
    {
     "data": {
      "text/plain": [
       "True"
      ]
     },
     "execution_count": 10,
     "metadata": {},
     "output_type": "execute_result"
    }
   ],
   "source": [
    "#q4\n",
    "carre[1][1] == 5"
   ]
  },
  {
   "cell_type": "code",
   "execution_count": 11,
   "id": "7267df14",
   "metadata": {},
   "outputs": [],
   "source": [
    "#q5\n",
    "def somme_ligne(carre, k):\n",
    "    \"\"\"\n",
    "    Fonction renvoyant la somme des nombres de la ligne d'indice \n",
    "    k d'un carré pris en paramètre\n",
    "    \"\"\"\n",
    "    somme = 0\n",
    "    for nombre in carre[k]:\n",
    "        somme += int(nombre)\n",
    "    return somme\n",
    "    "
   ]
  },
  {
   "cell_type": "code",
   "execution_count": 20,
   "id": "cb0bb880",
   "metadata": {},
   "outputs": [],
   "source": [
    "#q6\n",
    "def somme_lignes_egales(carre):\n",
    "    \"\"\"\n",
    "    Fonction renvoyant True si les sommes de toutes les lignes\n",
    "    sont égales et False le cas échéant\n",
    "    \"\"\"\n",
    "    #Affecte à la variable valeur_lignes la valeur de la somme de \n",
    "    #la première ligne du carré, comme valeur de référence\n",
    "    valeur_lignes = somme_ligne(carre, 0)\n",
    "    \n",
    "    #compare la valeur des sommes du reste des lignes du carré à \n",
    "    #la valeur de référence valeur_lignes\n",
    "    for ligne in range(1,len(carre)-1):\n",
    "        if somme_ligne(carre, ligne) != valeur_lignes:\n",
    "            return False\n",
    "    return True\n",
    "        "
   ]
  },
  {
   "cell_type": "code",
   "execution_count": 22,
   "id": "9076df7c",
   "metadata": {},
   "outputs": [
    {
     "data": {
      "text/plain": [
       "True"
      ]
     },
     "execution_count": 22,
     "metadata": {},
     "output_type": "execute_result"
    }
   ],
   "source": [
    "#test 1\n",
    "somme_lignes_egales(carre)"
   ]
  },
  {
   "cell_type": "code",
   "execution_count": 14,
   "id": "87482b86",
   "metadata": {},
   "outputs": [
    {
     "data": {
      "text/plain": [
       "False"
      ]
     },
     "execution_count": 14,
     "metadata": {},
     "output_type": "execute_result"
    }
   ],
   "source": [
    "#test 2\n",
    "somme_lignes_egales([[1,2,3],[1,2,3],[7,8,9]])"
   ]
  },
  {
   "cell_type": "code",
   "execution_count": 15,
   "id": "0e4d0d6c",
   "metadata": {},
   "outputs": [],
   "source": [
    "#q7\n",
    "def somme_colonne(carre, k):\n",
    "    \"\"\"\n",
    "    Fonction qui renvoie la somme des nombres d'une colonne \n",
    "    d'indice k d'un carré pris en paramètre\n",
    "    \"\"\"\n",
    "    somme = 0\n",
    "    for ligne in carre:\n",
    "        somme += int(ligne[k])\n",
    "    return somme"
   ]
  },
  {
   "cell_type": "code",
   "execution_count": 80,
   "id": "45ede695",
   "metadata": {},
   "outputs": [
    {
     "data": {
      "text/plain": [
       "15"
      ]
     },
     "execution_count": 80,
     "metadata": {},
     "output_type": "execute_result"
    }
   ],
   "source": [
    "somme_colonne(carre, 2)"
   ]
  }
 ],
 "metadata": {
  "kernelspec": {
   "display_name": "Python 3",
   "language": "python",
   "name": "python3"
  },
  "language_info": {
   "codemirror_mode": {
    "name": "ipython",
    "version": 3
   },
   "file_extension": ".py",
   "mimetype": "text/x-python",
   "name": "python",
   "nbconvert_exporter": "python",
   "pygments_lexer": "ipython3",
   "version": "3.8.8"
  }
 },
 "nbformat": 4,
 "nbformat_minor": 5
}
